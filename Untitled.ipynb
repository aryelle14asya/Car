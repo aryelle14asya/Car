{
 "cells": [
  {
   "cell_type": "code",
   "execution_count": 1,
   "id": "6e30bf77",
   "metadata": {},
   "outputs": [
    {
     "name": "stderr",
     "output_type": "stream",
     "text": [
      "C:\\Users\\vinic\\anaconda3\\lib\\site-packages\\scipy\\__init__.py:155: UserWarning: A NumPy version >=1.18.5 and <1.25.0 is required for this version of SciPy (detected version 1.26.1\n",
      "  warnings.warn(f\"A NumPy version >={np_minversion} and <{np_maxversion}\"\n"
     ]
    }
   ],
   "source": [
    "import numpy as np\n",
    "import pandas as pd\n",
    "import matplotlib.pyplot as plt\n",
    "import seaborn as sns"
   ]
  },
  {
   "cell_type": "code",
   "execution_count": 2,
   "id": "08dd7cf0",
   "metadata": {},
   "outputs": [
    {
     "data": {
      "text/html": [
       "<div>\n",
       "<style scoped>\n",
       "    .dataframe tbody tr th:only-of-type {\n",
       "        vertical-align: middle;\n",
       "    }\n",
       "\n",
       "    .dataframe tbody tr th {\n",
       "        vertical-align: top;\n",
       "    }\n",
       "\n",
       "    .dataframe thead th {\n",
       "        text-align: right;\n",
       "    }\n",
       "</style>\n",
       "<table border=\"1\" class=\"dataframe\">\n",
       "  <thead>\n",
       "    <tr style=\"text-align: right;\">\n",
       "      <th></th>\n",
       "      <th>mileage</th>\n",
       "      <th>make</th>\n",
       "      <th>model</th>\n",
       "      <th>fuel</th>\n",
       "      <th>gear</th>\n",
       "      <th>offerType</th>\n",
       "      <th>price</th>\n",
       "      <th>hp</th>\n",
       "      <th>year</th>\n",
       "    </tr>\n",
       "  </thead>\n",
       "  <tbody>\n",
       "    <tr>\n",
       "      <th>0</th>\n",
       "      <td>49670</td>\n",
       "      <td>Microcar</td>\n",
       "      <td>M.Go</td>\n",
       "      <td>Diesel</td>\n",
       "      <td>Automatic</td>\n",
       "      <td>Used</td>\n",
       "      <td>4950</td>\n",
       "      <td>5.0</td>\n",
       "      <td>2011</td>\n",
       "    </tr>\n",
       "    <tr>\n",
       "      <th>1</th>\n",
       "      <td>17413</td>\n",
       "      <td>Microcar</td>\n",
       "      <td>M.Go</td>\n",
       "      <td>Diesel</td>\n",
       "      <td>Automatic</td>\n",
       "      <td>Used</td>\n",
       "      <td>7990</td>\n",
       "      <td>5.0</td>\n",
       "      <td>2011</td>\n",
       "    </tr>\n",
       "    <tr>\n",
       "      <th>2</th>\n",
       "      <td>30</td>\n",
       "      <td>Others</td>\n",
       "      <td>NaN</td>\n",
       "      <td>Electric</td>\n",
       "      <td>NaN</td>\n",
       "      <td>Used</td>\n",
       "      <td>1950</td>\n",
       "      <td>7.0</td>\n",
       "      <td>2011</td>\n",
       "    </tr>\n",
       "    <tr>\n",
       "      <th>3</th>\n",
       "      <td>1820</td>\n",
       "      <td>Others</td>\n",
       "      <td>NaN</td>\n",
       "      <td>Diesel</td>\n",
       "      <td>NaN</td>\n",
       "      <td>Used</td>\n",
       "      <td>15500</td>\n",
       "      <td>18.0</td>\n",
       "      <td>2011</td>\n",
       "    </tr>\n",
       "    <tr>\n",
       "      <th>4</th>\n",
       "      <td>18350</td>\n",
       "      <td>Fiat</td>\n",
       "      <td>Fiorino</td>\n",
       "      <td>Electric</td>\n",
       "      <td>Manual</td>\n",
       "      <td>Used</td>\n",
       "      <td>6770</td>\n",
       "      <td>41.0</td>\n",
       "      <td>2011</td>\n",
       "    </tr>\n",
       "  </tbody>\n",
       "</table>\n",
       "</div>"
      ],
      "text/plain": [
       "   mileage      make    model      fuel       gear offerType  price    hp  \\\n",
       "0    49670  Microcar     M.Go    Diesel  Automatic      Used   4950   5.0   \n",
       "1    17413  Microcar     M.Go    Diesel  Automatic      Used   7990   5.0   \n",
       "2       30    Others      NaN  Electric        NaN      Used   1950   7.0   \n",
       "3     1820    Others      NaN    Diesel        NaN      Used  15500  18.0   \n",
       "4    18350      Fiat  Fiorino  Electric     Manual      Used   6770  41.0   \n",
       "\n",
       "   year  \n",
       "0  2011  \n",
       "1  2011  \n",
       "2  2011  \n",
       "3  2011  \n",
       "4  2011  "
      ]
     },
     "execution_count": 2,
     "metadata": {},
     "output_type": "execute_result"
    }
   ],
   "source": [
    "df=pd.read_excel('Pasta1Sextou.xlsx')\n",
    "df.head(5)"
   ]
  },
  {
   "cell_type": "code",
   "execution_count": 3,
   "id": "17b16586",
   "metadata": {},
   "outputs": [
    {
     "data": {
      "text/plain": [
       "Golf          1492\n",
       "Corsa         1491\n",
       "Fiesta        1289\n",
       "Astra         1191\n",
       "Focus          985\n",
       "              ... \n",
       "Viper            1\n",
       "675LT            1\n",
       "Adria            1\n",
       "T4 Allstar       1\n",
       "812              1\n",
       "Name: model, Length: 841, dtype: int64"
      ]
     },
     "execution_count": 3,
     "metadata": {},
     "output_type": "execute_result"
    }
   ],
   "source": [
    "df.model.value_counts()"
   ]
  },
  {
   "cell_type": "code",
   "execution_count": 4,
   "id": "d2cfff57",
   "metadata": {},
   "outputs": [
    {
     "data": {
      "text/plain": [
       "Volkswagen    6931\n",
       "Opel          4814\n",
       "Ford          4442\n",
       "Skoda         2889\n",
       "Renault       2830\n",
       "              ... \n",
       "Brilliance       1\n",
       "Isuzu            1\n",
       "Tazzari          1\n",
       "FISKER           1\n",
       "Trucks-Lkw       1\n",
       "Name: make, Length: 77, dtype: int64"
      ]
     },
     "execution_count": 4,
     "metadata": {},
     "output_type": "execute_result"
    }
   ],
   "source": [
    "df.make.value_counts()"
   ]
  },
  {
   "cell_type": "code",
   "execution_count": 5,
   "id": "d3914dbb",
   "metadata": {},
   "outputs": [
    {
     "name": "stderr",
     "output_type": "stream",
     "text": [
      "C:\\Users\\vinic\\AppData\\Local\\Temp\\ipykernel_1840\\4182733863.py:1: FutureWarning: Dropping invalid columns in DataFrameGroupBy.max is deprecated. In a future version, a TypeError will be raised. Before calling .max, select only columns which should be valid for the function.\n",
      "  output = df.groupby('make').max()\n"
     ]
    }
   ],
   "source": [
    "output = df.groupby('make').max()\n",
    "output = output.reset_index()"
   ]
  },
  {
   "cell_type": "code",
   "execution_count": 6,
   "id": "9da1022c",
   "metadata": {},
   "outputs": [],
   "source": [
    "output['mileage']=output['mileage']/1000"
   ]
  },
  {
   "cell_type": "code",
   "execution_count": 7,
   "id": "91d08882",
   "metadata": {},
   "outputs": [
    {
     "data": {
      "text/html": [
       "<div>\n",
       "<style scoped>\n",
       "    .dataframe tbody tr th:only-of-type {\n",
       "        vertical-align: middle;\n",
       "    }\n",
       "\n",
       "    .dataframe tbody tr th {\n",
       "        vertical-align: top;\n",
       "    }\n",
       "\n",
       "    .dataframe thead th {\n",
       "        text-align: right;\n",
       "    }\n",
       "</style>\n",
       "<table border=\"1\" class=\"dataframe\">\n",
       "  <thead>\n",
       "    <tr style=\"text-align: right;\">\n",
       "      <th></th>\n",
       "      <th>mileage</th>\n",
       "      <th>price</th>\n",
       "      <th>hp</th>\n",
       "      <th>year</th>\n",
       "    </tr>\n",
       "  </thead>\n",
       "  <tbody>\n",
       "    <tr>\n",
       "      <th>count</th>\n",
       "      <td>77.000000</td>\n",
       "      <td>7.700000e+01</td>\n",
       "      <td>77.000000</td>\n",
       "      <td>77.000000</td>\n",
       "    </tr>\n",
       "    <tr>\n",
       "      <th>mean</th>\n",
       "      <td>226.959506</td>\n",
       "      <td>1.159713e+05</td>\n",
       "      <td>362.116883</td>\n",
       "      <td>2019.441558</td>\n",
       "    </tr>\n",
       "    <tr>\n",
       "      <th>std</th>\n",
       "      <td>212.776360</td>\n",
       "      <td>1.868799e+05</td>\n",
       "      <td>244.877573</td>\n",
       "      <td>2.712027</td>\n",
       "    </tr>\n",
       "    <tr>\n",
       "      <th>min</th>\n",
       "      <td>0.100000</td>\n",
       "      <td>1.500000e+03</td>\n",
       "      <td>5.000000</td>\n",
       "      <td>2011.000000</td>\n",
       "    </tr>\n",
       "    <tr>\n",
       "      <th>25%</th>\n",
       "      <td>59.078000</td>\n",
       "      <td>2.218000e+04</td>\n",
       "      <td>150.000000</td>\n",
       "      <td>2019.000000</td>\n",
       "    </tr>\n",
       "    <tr>\n",
       "      <th>50%</th>\n",
       "      <td>180.000000</td>\n",
       "      <td>5.699000e+04</td>\n",
       "      <td>325.000000</td>\n",
       "      <td>2021.000000</td>\n",
       "    </tr>\n",
       "    <tr>\n",
       "      <th>75%</th>\n",
       "      <td>334.888000</td>\n",
       "      <td>1.038500e+05</td>\n",
       "      <td>581.000000</td>\n",
       "      <td>2021.000000</td>\n",
       "    </tr>\n",
       "    <tr>\n",
       "      <th>max</th>\n",
       "      <td>1111.111000</td>\n",
       "      <td>1.199900e+06</td>\n",
       "      <td>850.000000</td>\n",
       "      <td>2021.000000</td>\n",
       "    </tr>\n",
       "  </tbody>\n",
       "</table>\n",
       "</div>"
      ],
      "text/plain": [
       "           mileage         price          hp         year\n",
       "count    77.000000  7.700000e+01   77.000000    77.000000\n",
       "mean    226.959506  1.159713e+05  362.116883  2019.441558\n",
       "std     212.776360  1.868799e+05  244.877573     2.712027\n",
       "min       0.100000  1.500000e+03    5.000000  2011.000000\n",
       "25%      59.078000  2.218000e+04  150.000000  2019.000000\n",
       "50%     180.000000  5.699000e+04  325.000000  2021.000000\n",
       "75%     334.888000  1.038500e+05  581.000000  2021.000000\n",
       "max    1111.111000  1.199900e+06  850.000000  2021.000000"
      ]
     },
     "execution_count": 7,
     "metadata": {},
     "output_type": "execute_result"
    }
   ],
   "source": [
    "output.describe()"
   ]
  },
  {
   "cell_type": "code",
   "execution_count": 8,
   "id": "cf021dd3",
   "metadata": {},
   "outputs": [],
   "source": [
    "output = output[(output['mileage'] > 370) & (output['mileage'] < 1112)]"
   ]
  },
  {
   "cell_type": "code",
   "execution_count": 9,
   "id": "94c70774",
   "metadata": {},
   "outputs": [
    {
     "data": {
      "image/png": "[encoded data removed]",
      "text/plain": [
       "<Figure size 1440x720 with 1 Axes>"
      ]
     },
     "metadata": {},
     "output_type": "display_data"
    }
   ],
   "source": [
    "fig, axes = plt.subplots(1, 1, figsize=(18, 9), dpi=80)\n",
    "plt.rcParams['font.size'] = '13'\n",
    "plt.rcParams['xtick.labelsize'] = '13'\n",
    "plt.bar(output['make'], output['mileage'], color ='maroon', \n",
    "        width = 0.4)\n",
    " \n",
    "plt.xlabel(\"Car brands\")\n",
    "plt.ylabel(\"Milage ('000 Km)\")\n",
    "plt.show()"
   ]
  },
  {
   "cell_type": "code",
   "execution_count": 10,
   "id": "35917303",
   "metadata": {},
   "outputs": [
    {
     "data": {
      "text/plain": [
       "(35209, 9)"
      ]
     },
     "execution_count": 10,
     "metadata": {},
     "output_type": "execute_result"
    }
   ],
   "source": [
    "brands = ['Audi','BMW','Citroen','Fiat',\n",
    "         'Ford','Iveco','Mercedes-Benz',\n",
    "         'Opel','Renault','SEAT','Skoda',\n",
    "         'Toyota','Volkswagen']\n",
    "\n",
    "# Specifying our dataset of imported sardines\n",
    "dff = df[df['make'].isin(brands)]\n",
    "dff.shape"
   ]
  },
  {
   "cell_type": "code",
   "execution_count": 11,
   "id": "5fb9544c",
   "metadata": {},
   "outputs": [
    {
     "data": {
      "text/html": [
       "<div>\n",
       "<style scoped>\n",
       "    .dataframe tbody tr th:only-of-type {\n",
       "        vertical-align: middle;\n",
       "    }\n",
       "\n",
       "    .dataframe tbody tr th {\n",
       "        vertical-align: top;\n",
       "    }\n",
       "\n",
       "    .dataframe thead th {\n",
       "        text-align: right;\n",
       "    }\n",
       "</style>\n",
       "<table border=\"1\" class=\"dataframe\">\n",
       "  <thead>\n",
       "    <tr style=\"text-align: right;\">\n",
       "      <th></th>\n",
       "      <th>mileage</th>\n",
       "      <th>price</th>\n",
       "      <th>hp</th>\n",
       "      <th>year</th>\n",
       "    </tr>\n",
       "  </thead>\n",
       "  <tbody>\n",
       "    <tr>\n",
       "      <th>count</th>\n",
       "      <td>13.000000</td>\n",
       "      <td>13.000000</td>\n",
       "      <td>13.000000</td>\n",
       "      <td>13.000000</td>\n",
       "    </tr>\n",
       "    <tr>\n",
       "      <th>mean</th>\n",
       "      <td>87847.767603</td>\n",
       "      <td>15321.835454</td>\n",
       "      <td>131.095454</td>\n",
       "      <td>2015.735564</td>\n",
       "    </tr>\n",
       "    <tr>\n",
       "      <th>std</th>\n",
       "      <td>57031.325082</td>\n",
       "      <td>7300.278777</td>\n",
       "      <td>43.079644</td>\n",
       "      <td>1.122788</td>\n",
       "    </tr>\n",
       "    <tr>\n",
       "      <th>min</th>\n",
       "      <td>49008.270000</td>\n",
       "      <td>7722.250000</td>\n",
       "      <td>80.834906</td>\n",
       "      <td>2012.250000</td>\n",
       "    </tr>\n",
       "    <tr>\n",
       "      <th>25%</th>\n",
       "      <td>66158.880977</td>\n",
       "      <td>10442.955339</td>\n",
       "      <td>100.446801</td>\n",
       "      <td>2015.661612</td>\n",
       "    </tr>\n",
       "    <tr>\n",
       "      <th>50%</th>\n",
       "      <td>73838.420063</td>\n",
       "      <td>12847.433472</td>\n",
       "      <td>113.570597</td>\n",
       "      <td>2016.039501</td>\n",
       "    </tr>\n",
       "    <tr>\n",
       "      <th>75%</th>\n",
       "      <td>80802.309335</td>\n",
       "      <td>16065.926995</td>\n",
       "      <td>128.250000</td>\n",
       "      <td>2016.340162</td>\n",
       "    </tr>\n",
       "    <tr>\n",
       "      <th>max</th>\n",
       "      <td>271616.000000</td>\n",
       "      <td>30100.035768</td>\n",
       "      <td>208.064083</td>\n",
       "      <td>2016.609412</td>\n",
       "    </tr>\n",
       "  </tbody>\n",
       "</table>\n",
       "</div>"
      ],
      "text/plain": [
       "             mileage         price          hp         year\n",
       "count      13.000000     13.000000   13.000000    13.000000\n",
       "mean    87847.767603  15321.835454  131.095454  2015.735564\n",
       "std     57031.325082   7300.278777   43.079644     1.122788\n",
       "min     49008.270000   7722.250000   80.834906  2012.250000\n",
       "25%     66158.880977  10442.955339  100.446801  2015.661612\n",
       "50%     73838.420063  12847.433472  113.570597  2016.039501\n",
       "75%     80802.309335  16065.926995  128.250000  2016.340162\n",
       "max    271616.000000  30100.035768  208.064083  2016.609412"
      ]
     },
     "execution_count": 11,
     "metadata": {},
     "output_type": "execute_result"
    }
   ],
   "source": [
    "output2 = dff.groupby('make').mean()\n",
    "output2 = output2.reset_index()\n",
    "output2.describe()"
   ]
  },
  {
   "cell_type": "code",
   "execution_count": 12,
   "id": "6acb8806",
   "metadata": {},
   "outputs": [],
   "source": [
    "output2['mileage']=output2['mileage']/1000"
   ]
  },
  {
   "cell_type": "code",
   "execution_count": 13,
   "id": "3c9678f4",
   "metadata": {},
   "outputs": [
    {
     "data": {
      "image/png": "[encoded data removed]",
      "text/plain": [
       "<Figure size 1440x720 with 1 Axes>"
      ]
     },
     "metadata": {},
     "output_type": "display_data"
    }
   ],
   "source": [
    "fig, axes = plt.subplots(1, 1, figsize=(18, 9), dpi=80)\n",
    "plt.rcParams['font.size'] = '13'\n",
    "plt.rcParams['xtick.labelsize'] = '13'\n",
    "plt.bar(output2['make'], output2['mileage'], color ='maroon', \n",
    "        width = 0.4)\n",
    " \n",
    "plt.xlabel(\"Car brands\")\n",
    "plt.ylabel(\"Milage ('000 Km)\")\n",
    "plt.show()"
   ]
  },
  {
   "cell_type": "code",
   "execution_count": 14,
   "id": "949e8257",
   "metadata": {},
   "outputs": [
    {
     "data": {
      "text/plain": [
       "Golf       1492\n",
       "Corsa      1491\n",
       "Fiesta     1289\n",
       "Astra      1191\n",
       "Focus       985\n",
       "           ... \n",
       "ML 300        1\n",
       "GLS 500       1\n",
       "SL 500        1\n",
       "S 650         1\n",
       "GLS 600       1\n",
       "Name: model, Length: 463, dtype: int64"
      ]
     },
     "execution_count": 14,
     "metadata": {},
     "output_type": "execute_result"
    }
   ],
   "source": [
    "dff.model.value_counts()"
   ]
  },
  {
   "cell_type": "code",
   "execution_count": 15,
   "id": "26844d90",
   "metadata": {},
   "outputs": [],
   "source": [
    "output3 = dff.groupby('model').mean()\n",
    "output3 = output3.reset_index()"
   ]
  },
  {
   "cell_type": "code",
   "execution_count": 16,
   "id": "c4a25a68",
   "metadata": {},
   "outputs": [],
   "source": [
    "top5 = output3['price'].value_counts().index[:10]\n",
    "output3 = output3[output3['price'].isin(top5)]"
   ]
  },
  {
   "cell_type": "code",
   "execution_count": 17,
   "id": "4e8fdb63",
   "metadata": {},
   "outputs": [
    {
     "data": {
      "image/png": "[encoded data removed]",
      "text/plain": [
       "<Figure size 1440x720 with 1 Axes>"
      ]
     },
     "metadata": {},
     "output_type": "display_data"
    }
   ],
   "source": [
    "fig, axes = plt.subplots(1, 1, figsize=(18, 9), dpi=80)\n",
    "plt.rcParams['font.size'] = '13'\n",
    "plt.rcParams['xtick.labelsize'] = '13'\n",
    "plt.bar(output3['model'], output3['price'], color ='maroon', \n",
    "        width = 0.4)\n",
    " \n",
    "plt.xlabel(\"Car models\")\n",
    "plt.ylabel(\"Average price (USD)\")\n",
    "plt.show()"
   ]
  },
  {
   "cell_type": "code",
   "execution_count": 18,
   "id": "c1643f93",
   "metadata": {},
   "outputs": [],
   "source": [
    "output4 = dff[(dff['hp'] < 350)]"
   ]
  },
  {
   "cell_type": "code",
   "execution_count": 19,
   "id": "3d1fa352",
   "metadata": {},
   "outputs": [
    {
     "data": {
      "text/plain": [
       "<AxesSubplot:xlabel='gear', ylabel='hp'>"
      ]
     },
     "execution_count": 19,
     "metadata": {},
     "output_type": "execute_result"
    },
    {
     "data": {
      "image/png": "[encoded data removed]",
      "text/plain": [
       "<Figure size 640x480 with 1 Axes>"
      ]
     },
     "metadata": {},
     "output_type": "display_data"
    }
   ],
   "source": [
    "sns.boxplot(data=output4, x=\"gear\", y=\"hp\")"
   ]
  }
 ],
 "metadata": {
  "kernelspec": {
   "display_name": "Python 3 (ipykernel)",
   "language": "python",
   "name": "python3"
  },
  "language_info": {
   "codemirror_mode": {
    "name": "ipython",
    "version": 3
   },
   "file_extension": ".py",
   "mimetype": "text/x-python",
   "name": "python",
   "nbconvert_exporter": "python",
   "pygments_lexer": "ipython3",
   "version": "3.9.13"
  },
  "toc": {
   "base_numbering": 1,
   "nav_menu": {},
   "number_sections": true,
   "sideBar": true,
   "skip_h1_title": false,
   "title_cell": "Table of Contents",
   "title_sidebar": "Contents",
   "toc_cell": false,
   "toc_position": {},
   "toc_section_display": true,
   "toc_window_display": false
  },
  "varInspector": {
   "cols": {
    "lenName": 16,
    "lenType": 16,
    "lenVar": 40
   },
   "kernels_config": {
    "python": {
     "delete_cmd_postfix": "",
     "delete_cmd_prefix": "del ",
     "library": "var_list.py",
     "varRefreshCmd": "print(var_dic_list())"
    },
    "r": {
     "delete_cmd_postfix": ") ",
     "delete_cmd_prefix": "rm(",
     "library": "var_list.r",
     "varRefreshCmd": "cat(var_dic_list()) "
    }
   },
   "types_to_exclude": [
    "module",
    "function",
    "builtin_function_or_method",
    "instance",
    "_Feature"
   ],
   "window_display": false
  }
 },
 "nbformat": 4,
 "nbformat_minor": 5
}
